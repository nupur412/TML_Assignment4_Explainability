{
  "nbformat": 4,
  "nbformat_minor": 0,
  "metadata": {
    "colab": {
      "provenance": []
    },
    "kernelspec": {
      "name": "python3",
      "display_name": "Python 3"
    },
    "language_info": {
      "name": "python"
    }
  },
  "cells": [
    {
      "cell_type": "markdown",
      "source": [
        "This notebook implements the [Assignment 4](https://github.com/sprintml/tml_2024/blob/main/Assignment4.pdf) - Task 3 of Trustworthy Machine Learning course offered in the Summer Semester 2024 at the Saarland University. This task focuses on comparing LIME and Grad CAM methods using IoU metric. The report analyzing the results of this task can be accessed [here](https://github.com/nupur412/TML_Assignment4_Explainability/blob/main/TML_Task_4_Report.pdf)"
      ],
      "metadata": {
        "id": "F9KOgsC774qd"
      }
    },
    {
      "cell_type": "code",
      "execution_count": null,
      "metadata": {
        "id": "E_q2uKNloqEW"
      },
      "outputs": [],
      "source": [
        "import matplotlib.pyplot as plt\n",
        "from PIL import Image\n",
        "import torch.nn as nn\n",
        "import cv2\n",
        "import numpy as np\n",
        "import os, json\n",
        "\n",
        "import torch\n",
        "from torchvision import models, transforms\n",
        "from torch.autograd import Variable\n",
        "import torch.nn.functional as F"
      ]
    },
    {
      "cell_type": "code",
      "source": [
        "from torchvision.models import resnet50, ResNet50_Weights\n",
        "model = resnet50(weights=ResNet50_Weights.IMAGENET1K_V2)"
      ],
      "metadata": {
        "id": "zwoUTFhgk4gJ"
      },
      "execution_count": null,
      "outputs": []
    },
    {
      "cell_type": "markdown",
      "source": [
        "Using Tasks 2 and 3, we obtain masks for both LIME and Grad CAM methods"
      ],
      "metadata": {
        "id": "vmEpdnR782RE"
      }
    },
    {
      "cell_type": "code",
      "source": [
        "lime_masks = ['/content/limeMask_0.png', '/content/limeMask_1.png', '/content/limeMask_2.png', '/content/limeMask_3.png',\n",
        "              '/content/limeMask_4.png', '/content/limeMask_5.png', '/content/limeMask_6.png',\n",
        "              '/content/limeMask_7.png', '/content/limeMask_8.png', '/content/limeMask_9.png',\n",
        "              ]\n",
        "\n",
        "gradcam_masks = ['/content/gradMask_0.png', '/content/gradMask_1.png', '/content/gradMask_2.png',\n",
        "              '/content/gradMask_3.png', '/content/gradMask_4.png', '/content/gradMask_5.png',\n",
        "              '/content/gradMask_6.png', '/content/gradMask_7.png', '/content/gradMask_8.png',\n",
        "              '/content/gradMask_9.png']"
      ],
      "metadata": {
        "id": "s7RSwdr-k5KR"
      },
      "execution_count": null,
      "outputs": []
    },
    {
      "cell_type": "code",
      "source": [
        "! pip install numpy matplotlib opencv-python pillow"
      ],
      "metadata": {
        "id": "DRd7Cx4OlEz3"
      },
      "execution_count": null,
      "outputs": []
    },
    {
      "cell_type": "code",
      "source": [
        "def process_image(img, target_shape):\n",
        "    img = img.resize(target_shape, Image.NEAREST)\n",
        "    img_gray = img.convert('L')\n",
        "    img_array = np.array(img_gray)\n",
        "\n",
        "    _, binary_mask = cv2.threshold(img_array, 127, 255, cv2.THRESH_BINARY)\n",
        "    return binary_mask"
      ],
      "metadata": {
        "id": "H6HgXVehlH5o"
      },
      "execution_count": null,
      "outputs": []
    },
    {
      "cell_type": "code",
      "source": [
        "def get_image(path):\n",
        "    with open(os.path.abspath(path), 'rb') as f:\n",
        "        with Image.open(f) as img:\n",
        "            return img.convert('RGB')"
      ],
      "metadata": {
        "id": "V2X6OakT-2o2"
      },
      "execution_count": null,
      "outputs": []
    },
    {
      "cell_type": "code",
      "source": [
        "target_shape = (369, 369)\n",
        "\n",
        "# convert the masks to binary format\n",
        "lime_masks = [process_image(get_image(path), target_shape) for path in lime_masks]\n",
        "gradcam_masks = [process_image(get_image(path), target_shape) for path in gradcam_masks]"
      ],
      "metadata": {
        "id": "I2KmXPmPlQ8x"
      },
      "execution_count": null,
      "outputs": []
    },
    {
      "cell_type": "markdown",
      "source": [
        "Defining the function to compute IoU for masks from LIME and GradCAM"
      ],
      "metadata": {
        "id": "GP10_J8h9twf"
      }
    },
    {
      "cell_type": "code",
      "source": [
        "def compute_iou(mask1, mask2):\n",
        "    intersection = np.logical_and(mask1, mask2).sum()\n",
        "    union = np.logical_or(mask1, mask2).sum()\n",
        "    iou = intersection / union if union != 0 else 0\n",
        "    return iou"
      ],
      "metadata": {
        "id": "p1t4-ncqlbcL"
      },
      "execution_count": null,
      "outputs": []
    },
    {
      "cell_type": "code",
      "source": [
        "# Compute IoU for each pair of masks\n",
        "ious = []\n",
        "for lime_mask, gradcam_mask in zip(lime_masks, gradcam_masks):\n",
        "    iou = compute_iou(lime_mask, gradcam_mask)\n",
        "    ious.append(iou)\n",
        "\n",
        "print(\"IoUs:\", ious)\n",
        "print(\"Average IoU:\", np.mean(ious))"
      ],
      "metadata": {
        "id": "z-INdTu0leW-"
      },
      "execution_count": null,
      "outputs": []
    }
  ]
}